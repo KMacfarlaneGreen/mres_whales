{
 "cells": [
  {
   "cell_type": "code",
   "execution_count": 1,
   "id": "a7ee3af1",
   "metadata": {},
   "outputs": [],
   "source": [
    "import shutil\n",
    "import glob"
   ]
  },
  {
   "cell_type": "code",
   "execution_count": 3,
   "id": "e08e68ae",
   "metadata": {},
   "outputs": [],
   "source": [
    "import os\n",
    "\n",
    "path = '/gws/nopw/j04/ai4er/users/kmgreen/data/aerial_images/images'\n",
    "\n",
    "folder = os.fsencode(path)\n",
    "\n",
    "image_names = []\n",
    "\n",
    "for file in os.listdir(folder):\n",
    "    filename = os.fsdecode(file)\n",
    "    if filename.endswith( ('.png') ): # whatever file types you're using...\n",
    "        image_names.append(filename)\n",
    "\n",
    "image_names.sort()"
   ]
  },
  {
   "cell_type": "code",
   "execution_count": 7,
   "id": "dbcb98c6",
   "metadata": {},
   "outputs": [],
   "source": [
    "box_path = '/gws/nopw/j04/ai4er/users/kmgreen/data/aerial_images/labels'\n",
    "box_folder = os.fsencode(box_path)\n",
    "\n",
    "box_names = []\n",
    "\n",
    "for file in os.listdir(box_folder):\n",
    "    filename = os.fsdecode(file)\n",
    "    if filename.endswith( ('.txt') ): \n",
    "        box_names.append(filename)\n",
    "\n",
    "box_names.sort()"
   ]
  },
  {
   "cell_type": "code",
   "execution_count": 8,
   "id": "2a572e08",
   "metadata": {},
   "outputs": [],
   "source": [
    "import pandas as pd\n",
    "files_df = pd.DataFrame()"
   ]
  },
  {
   "cell_type": "code",
   "execution_count": 9,
   "id": "7ec3838f",
   "metadata": {},
   "outputs": [],
   "source": [
    "files_df['Images'] = image_names\n",
    "files_df['Boxes'] = box_names"
   ]
  },
  {
   "cell_type": "code",
   "execution_count": 32,
   "id": "fd795238",
   "metadata": {},
   "outputs": [
    {
     "data": {
      "text/html": [
       "<div>\n",
       "<style scoped>\n",
       "    .dataframe tbody tr th:only-of-type {\n",
       "        vertical-align: middle;\n",
       "    }\n",
       "\n",
       "    .dataframe tbody tr th {\n",
       "        vertical-align: top;\n",
       "    }\n",
       "\n",
       "    .dataframe thead th {\n",
       "        text-align: right;\n",
       "    }\n",
       "</style>\n",
       "<table border=\"1\" class=\"dataframe\">\n",
       "  <thead>\n",
       "    <tr style=\"text-align: right;\">\n",
       "      <th></th>\n",
       "      <th>Images</th>\n",
       "      <th>Boxes</th>\n",
       "    </tr>\n",
       "  </thead>\n",
       "  <tbody>\n",
       "    <tr>\n",
       "      <th>200</th>\n",
       "      <td>aerial_1178.png</td>\n",
       "      <td>aerial_1178.txt</td>\n",
       "    </tr>\n",
       "    <tr>\n",
       "      <th>201</th>\n",
       "      <td>aerial_1179.png</td>\n",
       "      <td>aerial_1179.txt</td>\n",
       "    </tr>\n",
       "    <tr>\n",
       "      <th>202</th>\n",
       "      <td>aerial_118.png</td>\n",
       "      <td>aerial_118.txt</td>\n",
       "    </tr>\n",
       "    <tr>\n",
       "      <th>203</th>\n",
       "      <td>aerial_1180.png</td>\n",
       "      <td>aerial_1180.txt</td>\n",
       "    </tr>\n",
       "    <tr>\n",
       "      <th>204</th>\n",
       "      <td>aerial_1181.png</td>\n",
       "      <td>aerial_1181.txt</td>\n",
       "    </tr>\n",
       "    <tr>\n",
       "      <th>...</th>\n",
       "      <td>...</td>\n",
       "      <td>...</td>\n",
       "    </tr>\n",
       "    <tr>\n",
       "      <th>1239</th>\n",
       "      <td>aerial_995.png</td>\n",
       "      <td>aerial_995.txt</td>\n",
       "    </tr>\n",
       "    <tr>\n",
       "      <th>1240</th>\n",
       "      <td>aerial_996.png</td>\n",
       "      <td>aerial_996.txt</td>\n",
       "    </tr>\n",
       "    <tr>\n",
       "      <th>1241</th>\n",
       "      <td>aerial_997.png</td>\n",
       "      <td>aerial_997.txt</td>\n",
       "    </tr>\n",
       "    <tr>\n",
       "      <th>1242</th>\n",
       "      <td>aerial_998.png</td>\n",
       "      <td>aerial_998.txt</td>\n",
       "    </tr>\n",
       "    <tr>\n",
       "      <th>1243</th>\n",
       "      <td>aerial_999.png</td>\n",
       "      <td>aerial_999.txt</td>\n",
       "    </tr>\n",
       "  </tbody>\n",
       "</table>\n",
       "<p>1044 rows × 2 columns</p>\n",
       "</div>"
      ],
      "text/plain": [
       "               Images            Boxes\n",
       "200   aerial_1178.png  aerial_1178.txt\n",
       "201   aerial_1179.png  aerial_1179.txt\n",
       "202    aerial_118.png   aerial_118.txt\n",
       "203   aerial_1180.png  aerial_1180.txt\n",
       "204   aerial_1181.png  aerial_1181.txt\n",
       "...               ...              ...\n",
       "1239   aerial_995.png   aerial_995.txt\n",
       "1240   aerial_996.png   aerial_996.txt\n",
       "1241   aerial_997.png   aerial_997.txt\n",
       "1242   aerial_998.png   aerial_998.txt\n",
       "1243   aerial_999.png   aerial_999.txt\n",
       "\n",
       "[1044 rows x 2 columns]"
      ]
     },
     "execution_count": 32,
     "metadata": {},
     "output_type": "execute_result"
    }
   ],
   "source": [
    "files_df[200:]"
   ]
  },
  {
   "cell_type": "code",
   "execution_count": 37,
   "id": "86eb4bee",
   "metadata": {},
   "outputs": [],
   "source": [
    "outputdir = '/gws/nopw/j04/ai4er/users/kmgreen/data/aerial_negs'\n",
    "all_image_path = '/gws/nopw/j04/ai4er/users/kmgreen/data/aerial_images/images'\n",
    "all_box_path = '/gws/nopw/j04/ai4er/users/kmgreen/data/aerial_images/labels'\n",
    "\n",
    "for ex in range(0,201):\n",
    "    image_path = os.path.join(all_image_path,files_df['Images'][ex])\n",
    "    #print(image_path)\n",
    "    box_path = os.path.join(all_box_path,files_df['Boxes'][ex])\n",
    "    #print(box_path)\n",
    "    with open(box_path, 'r') as f:\n",
    "        label = f.read()\n",
    "        items = label.splitlines()\n",
    "    \n",
    "        if items[0][0] == '1':\n",
    "            shutil.move(box_path, outputdir)\n",
    "            shutil.move(image_path, outputdir)\n",
    "    "
   ]
  },
  {
   "cell_type": "code",
   "execution_count": 35,
   "id": "19f88ee6",
   "metadata": {},
   "outputs": [
    {
     "name": "stdout",
     "output_type": "stream",
     "text": [
      "/gws/nopw/j04/ai4er/users/kmgreen/data/aerial_negs/aerial_0.png\n",
      "/gws/nopw/j04/ai4er/users/kmgreen/data/aerial_negs/aerial_1.png\n",
      "/gws/nopw/j04/ai4er/users/kmgreen/data/aerial_negs/aerial_1000.png\n",
      "/gws/nopw/j04/ai4er/users/kmgreen/data/aerial_negs/aerial_1001.png\n",
      "/gws/nopw/j04/ai4er/users/kmgreen/data/aerial_negs/aerial_1002.png\n",
      "/gws/nopw/j04/ai4er/users/kmgreen/data/aerial_negs/aerial_1003.png\n",
      "/gws/nopw/j04/ai4er/users/kmgreen/data/aerial_negs/aerial_1004.png\n",
      "/gws/nopw/j04/ai4er/users/kmgreen/data/aerial_negs/aerial_1005.png\n",
      "/gws/nopw/j04/ai4er/users/kmgreen/data/aerial_negs/aerial_1006.png\n",
      "/gws/nopw/j04/ai4er/users/kmgreen/data/aerial_negs/aerial_1007.png\n",
      "/gws/nopw/j04/ai4er/users/kmgreen/data/aerial_negs/aerial_1008.png\n",
      "/gws/nopw/j04/ai4er/users/kmgreen/data/aerial_negs/aerial_1009.png\n",
      "/gws/nopw/j04/ai4er/users/kmgreen/data/aerial_negs/aerial_1010.png\n",
      "/gws/nopw/j04/ai4er/users/kmgreen/data/aerial_negs/aerial_1011.png\n",
      "/gws/nopw/j04/ai4er/users/kmgreen/data/aerial_negs/aerial_102.png\n",
      "/gws/nopw/j04/ai4er/users/kmgreen/data/aerial_negs/aerial_1035.png\n",
      "/gws/nopw/j04/ai4er/users/kmgreen/data/aerial_negs/aerial_1036.png\n",
      "/gws/nopw/j04/ai4er/users/kmgreen/data/aerial_negs/aerial_1037.png\n",
      "/gws/nopw/j04/ai4er/users/kmgreen/data/aerial_negs/aerial_1038.png\n",
      "/gws/nopw/j04/ai4er/users/kmgreen/data/aerial_negs/aerial_1039.png\n",
      "/gws/nopw/j04/ai4er/users/kmgreen/data/aerial_negs/aerial_1040.png\n",
      "/gws/nopw/j04/ai4er/users/kmgreen/data/aerial_negs/aerial_1041.png\n",
      "/gws/nopw/j04/ai4er/users/kmgreen/data/aerial_negs/aerial_116.png\n",
      "/gws/nopw/j04/ai4er/users/kmgreen/data/aerial_negs/aerial_1166.png\n",
      "/gws/nopw/j04/ai4er/users/kmgreen/data/aerial_negs/aerial_1167.png\n",
      "/gws/nopw/j04/ai4er/users/kmgreen/data/aerial_negs/aerial_1168.png\n",
      "/gws/nopw/j04/ai4er/users/kmgreen/data/aerial_negs/aerial_1169.png\n",
      "/gws/nopw/j04/ai4er/users/kmgreen/data/aerial_negs/aerial_117.png\n",
      "/gws/nopw/j04/ai4er/users/kmgreen/data/aerial_negs/aerial_1170.png\n",
      "/gws/nopw/j04/ai4er/users/kmgreen/data/aerial_negs/aerial_1177.png\n",
      "/gws/nopw/j04/ai4er/users/kmgreen/data/aerial_negs/aerial_1178.png\n",
      "/gws/nopw/j04/ai4er/users/kmgreen/data/aerial_negs/aerial_12.png\n",
      "/gws/nopw/j04/ai4er/users/kmgreen/data/aerial_negs/aerial_120.png\n"
     ]
    }
   ],
   "source": [
    "# file in glob.glob('/gws/nopw/j04/ai4er/users/kmgreen/data/aerial_negs/*.png'):#{}'.format(ext)):\n",
    "    #print(file)\n",
    "    #shutil.move(file,all_image_path)\n"
   ]
  },
  {
   "cell_type": "code",
   "execution_count": null,
   "id": "e183dbf3",
   "metadata": {},
   "outputs": [],
   "source": []
  }
 ],
 "metadata": {
  "kernelspec": {
   "display_name": "Python 3",
   "language": "python",
   "name": "python3"
  },
  "language_info": {
   "codemirror_mode": {
    "name": "ipython",
    "version": 3
   },
   "file_extension": ".py",
   "mimetype": "text/x-python",
   "name": "python",
   "nbconvert_exporter": "python",
   "pygments_lexer": "ipython3",
   "version": "3.8.8"
  }
 },
 "nbformat": 4,
 "nbformat_minor": 5
}
