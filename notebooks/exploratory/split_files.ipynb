{
 "cells": [
  {
   "cell_type": "code",
   "execution_count": 2,
   "id": "e8b6bcd5",
   "metadata": {},
   "outputs": [],
   "source": [
    "import splitfolders"
   ]
  },
  {
   "cell_type": "code",
   "execution_count": 3,
   "id": "252fd4d5",
   "metadata": {},
   "outputs": [],
   "source": [
    "#import os\n",
    "#import shutil"
   ]
  },
  {
   "cell_type": "code",
   "execution_count": 6,
   "id": "1349d99e",
   "metadata": {},
   "outputs": [
    {
     "data": {
      "text/plain": [
       "'/gws/nopw/j04/ai4er/users/kmgreen/data/satellite_data/class2'"
      ]
     },
     "execution_count": 6,
     "metadata": {},
     "output_type": "execute_result"
    }
   ],
   "source": [
    "#Setting up correct file structure for split\n",
    "#shutil.move(\"/gws/nopw/j04/ai4er/users/kmgreen/data/satellite_images\", \"/gws/nopw/j04/ai4er/users/kmgreen/data/satellite_data/class2\")\n"
   ]
  },
  {
   "cell_type": "code",
   "execution_count": 7,
   "id": "10ce660e",
   "metadata": {},
   "outputs": [],
   "source": [
    "input_path = \"/gws/nopw/j04/ai4er/users/kmgreen/data/satellite_data\""
   ]
  },
  {
   "cell_type": "code",
   "execution_count": 8,
   "id": "82652f10",
   "metadata": {},
   "outputs": [],
   "source": [
    "output_path = \"/gws/nopw/j04/ai4er/users/kmgreen/data/yolo_images\""
   ]
  },
  {
   "cell_type": "code",
   "execution_count": 9,
   "id": "400fc435",
   "metadata": {},
   "outputs": [],
   "source": [
    "#splitfolders.ratio(input_path, output=output_path, seed=1337, ratio=(.7, .15, .15), group_prefix=2)"
   ]
  },
  {
   "cell_type": "code",
   "execution_count": null,
   "id": "f1c14296",
   "metadata": {},
   "outputs": [],
   "source": []
  }
 ],
 "metadata": {
  "kernelspec": {
   "display_name": "Python 3",
   "language": "python",
   "name": "python3"
  },
  "language_info": {
   "codemirror_mode": {
    "name": "ipython",
    "version": 3
   },
   "file_extension": ".py",
   "mimetype": "text/x-python",
   "name": "python",
   "nbconvert_exporter": "python",
   "pygments_lexer": "ipython3",
   "version": "3.8.8"
  }
 },
 "nbformat": 4,
 "nbformat_minor": 5
}
