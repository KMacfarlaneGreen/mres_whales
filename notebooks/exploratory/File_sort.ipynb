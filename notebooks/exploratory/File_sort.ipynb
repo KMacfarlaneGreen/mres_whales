{
 "cells": [
  {
   "cell_type": "code",
   "execution_count": 1,
   "id": "e1a2ca74",
   "metadata": {},
   "outputs": [],
   "source": [
    "import shutil\n",
    "import glob"
   ]
  },
  {
   "cell_type": "code",
   "execution_count": 5,
   "id": "2fa44799",
   "metadata": {},
   "outputs": [],
   "source": [
    "dest_dir = '/gws/nopw/j04/ai4er/users/kmgreen/data/yolo_boats/test/labels'"
   ]
  },
  {
   "cell_type": "code",
   "execution_count": 6,
   "id": "e9d642e3",
   "metadata": {},
   "outputs": [
    {
     "name": "stdout",
     "output_type": "stream",
     "text": [
      "/gws/nopw/j04/ai4er/users/kmgreen/data/new_test_data/sanig2_10.txt\n",
      "/gws/nopw/j04/ai4er/users/kmgreen/data/new_test_data/sanig2_11.txt\n",
      "/gws/nopw/j04/ai4er/users/kmgreen/data/new_test_data/sanig2_12.txt\n",
      "/gws/nopw/j04/ai4er/users/kmgreen/data/new_test_data/sanig2_13.txt\n",
      "/gws/nopw/j04/ai4er/users/kmgreen/data/new_test_data/sanig2_14.txt\n",
      "/gws/nopw/j04/ai4er/users/kmgreen/data/new_test_data/sanig2_15.txt\n",
      "/gws/nopw/j04/ai4er/users/kmgreen/data/new_test_data/sanig2_16.txt\n",
      "/gws/nopw/j04/ai4er/users/kmgreen/data/new_test_data/sanig2_17.txt\n",
      "/gws/nopw/j04/ai4er/users/kmgreen/data/new_test_data/sanig2_18.txt\n",
      "/gws/nopw/j04/ai4er/users/kmgreen/data/new_test_data/sanig2_19.txt\n",
      "/gws/nopw/j04/ai4er/users/kmgreen/data/new_test_data/sanig2_20.txt\n",
      "/gws/nopw/j04/ai4er/users/kmgreen/data/new_test_data/sanig2_21.txt\n",
      "/gws/nopw/j04/ai4er/users/kmgreen/data/new_test_data/sanig2_22.txt\n",
      "/gws/nopw/j04/ai4er/users/kmgreen/data/new_test_data/sanig2_23.txt\n",
      "/gws/nopw/j04/ai4er/users/kmgreen/data/new_test_data/sanig2_24.txt\n",
      "/gws/nopw/j04/ai4er/users/kmgreen/data/new_test_data/sanig2_25.txt\n",
      "/gws/nopw/j04/ai4er/users/kmgreen/data/new_test_data/sanig2_26.txt\n",
      "/gws/nopw/j04/ai4er/users/kmgreen/data/new_test_data/sanig2_27.txt\n",
      "/gws/nopw/j04/ai4er/users/kmgreen/data/new_test_data/sanig2_28.txt\n",
      "/gws/nopw/j04/ai4er/users/kmgreen/data/new_test_data/sanig2_29.txt\n",
      "/gws/nopw/j04/ai4er/users/kmgreen/data/new_test_data/sanig2_neg_10.txt\n",
      "/gws/nopw/j04/ai4er/users/kmgreen/data/new_test_data/sanig2_neg_11.txt\n",
      "/gws/nopw/j04/ai4er/users/kmgreen/data/new_test_data/sanig2_neg_12.txt\n",
      "/gws/nopw/j04/ai4er/users/kmgreen/data/new_test_data/sanig2_neg_13.txt\n",
      "/gws/nopw/j04/ai4er/users/kmgreen/data/new_test_data/sanig2_neg_14.txt\n",
      "/gws/nopw/j04/ai4er/users/kmgreen/data/new_test_data/sanig2_neg_15.txt\n",
      "/gws/nopw/j04/ai4er/users/kmgreen/data/new_test_data/sanig2_neg_16.txt\n",
      "/gws/nopw/j04/ai4er/users/kmgreen/data/new_test_data/sanig2_neg_17.txt\n",
      "/gws/nopw/j04/ai4er/users/kmgreen/data/new_test_data/sanig2_neg_18.txt\n",
      "/gws/nopw/j04/ai4er/users/kmgreen/data/new_test_data/sanig2_neg_19.txt\n",
      "/gws/nopw/j04/ai4er/users/kmgreen/data/new_test_data/sanig2_neg_20.txt\n",
      "/gws/nopw/j04/ai4er/users/kmgreen/data/new_test_data/sanig2_neg_21.txt\n",
      "/gws/nopw/j04/ai4er/users/kmgreen/data/new_test_data/sanig2_neg_22.txt\n",
      "/gws/nopw/j04/ai4er/users/kmgreen/data/new_test_data/sanig2_neg_23.txt\n",
      "/gws/nopw/j04/ai4er/users/kmgreen/data/new_test_data/sanig2_neg_24.txt\n",
      "/gws/nopw/j04/ai4er/users/kmgreen/data/new_test_data/sanig2_neg_25.txt\n"
     ]
    }
   ],
   "source": [
    "for file in glob.glob('/gws/nopw/j04/ai4er/users/kmgreen/data/new_test_data/sanig2*.txt'):#{}'.format(ext)):\n",
    "    print(file)\n",
    "    shutil.move(file,dest_dir)"
   ]
  },
  {
   "cell_type": "code",
   "execution_count": 3,
   "id": "d5d1faed",
   "metadata": {},
   "outputs": [
    {
     "name": "stdout",
     "output_type": "stream",
     "text": [
      "/gws/nopw/j04/ai4er/users/kmgreen/data/yolo_boats/test/images/sanig2_0.txt\n",
      "/gws/nopw/j04/ai4er/users/kmgreen/data/yolo_boats/test/images/sanig2_1.txt\n",
      "/gws/nopw/j04/ai4er/users/kmgreen/data/yolo_boats/test/images/sanig2_10.txt\n",
      "/gws/nopw/j04/ai4er/users/kmgreen/data/yolo_boats/test/images/sanig2_11.txt\n",
      "/gws/nopw/j04/ai4er/users/kmgreen/data/yolo_boats/test/images/sanig2_12.txt\n",
      "/gws/nopw/j04/ai4er/users/kmgreen/data/yolo_boats/test/images/sanig2_13.txt\n",
      "/gws/nopw/j04/ai4er/users/kmgreen/data/yolo_boats/test/images/sanig2_14.txt\n",
      "/gws/nopw/j04/ai4er/users/kmgreen/data/yolo_boats/test/images/sanig2_15.txt\n",
      "/gws/nopw/j04/ai4er/users/kmgreen/data/yolo_boats/test/images/sanig2_16.txt\n",
      "/gws/nopw/j04/ai4er/users/kmgreen/data/yolo_boats/test/images/sanig2_17.txt\n",
      "/gws/nopw/j04/ai4er/users/kmgreen/data/yolo_boats/test/images/sanig2_18.txt\n",
      "/gws/nopw/j04/ai4er/users/kmgreen/data/yolo_boats/test/images/sanig2_19.txt\n",
      "/gws/nopw/j04/ai4er/users/kmgreen/data/yolo_boats/test/images/sanig2_2.txt\n",
      "/gws/nopw/j04/ai4er/users/kmgreen/data/yolo_boats/test/images/sanig2_20.txt\n",
      "/gws/nopw/j04/ai4er/users/kmgreen/data/yolo_boats/test/images/sanig2_21.txt\n",
      "/gws/nopw/j04/ai4er/users/kmgreen/data/yolo_boats/test/images/sanig2_22.txt\n",
      "/gws/nopw/j04/ai4er/users/kmgreen/data/yolo_boats/test/images/sanig2_23.txt\n",
      "/gws/nopw/j04/ai4er/users/kmgreen/data/yolo_boats/test/images/sanig2_24.txt\n",
      "/gws/nopw/j04/ai4er/users/kmgreen/data/yolo_boats/test/images/sanig2_25.txt\n",
      "/gws/nopw/j04/ai4er/users/kmgreen/data/yolo_boats/test/images/sanig2_26.txt\n",
      "/gws/nopw/j04/ai4er/users/kmgreen/data/yolo_boats/test/images/sanig2_27.txt\n",
      "/gws/nopw/j04/ai4er/users/kmgreen/data/yolo_boats/test/images/sanig2_28.txt\n",
      "/gws/nopw/j04/ai4er/users/kmgreen/data/yolo_boats/test/images/sanig2_29.txt\n",
      "/gws/nopw/j04/ai4er/users/kmgreen/data/yolo_boats/test/images/sanig2_3.txt\n",
      "/gws/nopw/j04/ai4er/users/kmgreen/data/yolo_boats/test/images/sanig2_4.txt\n",
      "/gws/nopw/j04/ai4er/users/kmgreen/data/yolo_boats/test/images/sanig2_5.txt\n",
      "/gws/nopw/j04/ai4er/users/kmgreen/data/yolo_boats/test/images/sanig2_6.txt\n",
      "/gws/nopw/j04/ai4er/users/kmgreen/data/yolo_boats/test/images/sanig2_7.txt\n",
      "/gws/nopw/j04/ai4er/users/kmgreen/data/yolo_boats/test/images/sanig2_8.txt\n",
      "/gws/nopw/j04/ai4er/users/kmgreen/data/yolo_boats/test/images/sanig2_9.txt\n",
      "/gws/nopw/j04/ai4er/users/kmgreen/data/yolo_boats/test/images/sanig2_neg_0.txt\n",
      "/gws/nopw/j04/ai4er/users/kmgreen/data/yolo_boats/test/images/sanig2_neg_1.txt\n",
      "/gws/nopw/j04/ai4er/users/kmgreen/data/yolo_boats/test/images/sanig2_neg_10.txt\n",
      "/gws/nopw/j04/ai4er/users/kmgreen/data/yolo_boats/test/images/sanig2_neg_11.txt\n",
      "/gws/nopw/j04/ai4er/users/kmgreen/data/yolo_boats/test/images/sanig2_neg_12.txt\n",
      "/gws/nopw/j04/ai4er/users/kmgreen/data/yolo_boats/test/images/sanig2_neg_13.txt\n",
      "/gws/nopw/j04/ai4er/users/kmgreen/data/yolo_boats/test/images/sanig2_neg_14.txt\n",
      "/gws/nopw/j04/ai4er/users/kmgreen/data/yolo_boats/test/images/sanig2_neg_15.txt\n",
      "/gws/nopw/j04/ai4er/users/kmgreen/data/yolo_boats/test/images/sanig2_neg_16.txt\n",
      "/gws/nopw/j04/ai4er/users/kmgreen/data/yolo_boats/test/images/sanig2_neg_17.txt\n",
      "/gws/nopw/j04/ai4er/users/kmgreen/data/yolo_boats/test/images/sanig2_neg_18.txt\n",
      "/gws/nopw/j04/ai4er/users/kmgreen/data/yolo_boats/test/images/sanig2_neg_19.txt\n",
      "/gws/nopw/j04/ai4er/users/kmgreen/data/yolo_boats/test/images/sanig2_neg_2.txt\n",
      "/gws/nopw/j04/ai4er/users/kmgreen/data/yolo_boats/test/images/sanig2_neg_20.txt\n",
      "/gws/nopw/j04/ai4er/users/kmgreen/data/yolo_boats/test/images/sanig2_neg_21.txt\n",
      "/gws/nopw/j04/ai4er/users/kmgreen/data/yolo_boats/test/images/sanig2_neg_22.txt\n",
      "/gws/nopw/j04/ai4er/users/kmgreen/data/yolo_boats/test/images/sanig2_neg_23.txt\n",
      "/gws/nopw/j04/ai4er/users/kmgreen/data/yolo_boats/test/images/sanig2_neg_24.txt\n",
      "/gws/nopw/j04/ai4er/users/kmgreen/data/yolo_boats/test/images/sanig2_neg_25.txt\n",
      "/gws/nopw/j04/ai4er/users/kmgreen/data/yolo_boats/test/images/sanig2_neg_3.txt\n",
      "/gws/nopw/j04/ai4er/users/kmgreen/data/yolo_boats/test/images/sanig2_neg_4.txt\n",
      "/gws/nopw/j04/ai4er/users/kmgreen/data/yolo_boats/test/images/sanig2_neg_5.txt\n",
      "/gws/nopw/j04/ai4er/users/kmgreen/data/yolo_boats/test/images/sanig2_neg_6.txt\n",
      "/gws/nopw/j04/ai4er/users/kmgreen/data/yolo_boats/test/images/sanig2_neg_7.txt\n",
      "/gws/nopw/j04/ai4er/users/kmgreen/data/yolo_boats/test/images/sanig2_neg_8.txt\n",
      "/gws/nopw/j04/ai4er/users/kmgreen/data/yolo_boats/test/images/sanig2_neg_9.txt\n"
     ]
    }
   ],
   "source": [
    "for file in glob.glob('/gws/nopw/j04/ai4er/users/kmgreen/data/yolo_boats/test/images/*.txt'):#{}'.format(ext)):\n",
    "    print(file)\n",
    "    #shutil.move(file,dest_dir)"
   ]
  },
  {
   "cell_type": "code",
   "execution_count": 7,
   "id": "7857c0ab",
   "metadata": {},
   "outputs": [
    {
     "name": "stdout",
     "output_type": "stream",
     "text": [
      "/gws/nopw/j04/ai4er/users/kmgreen/data/yolo_boats/test/images/liebre1_101.png\n",
      "/gws/nopw/j04/ai4er/users/kmgreen/data/yolo_boats/test/images/liebre1_106.png\n",
      "/gws/nopw/j04/ai4er/users/kmgreen/data/yolo_boats/test/images/liebre1_118.png\n",
      "/gws/nopw/j04/ai4er/users/kmgreen/data/yolo_boats/test/images/liebre1_121.png\n",
      "/gws/nopw/j04/ai4er/users/kmgreen/data/yolo_boats/test/images/liebre1_122.png\n",
      "/gws/nopw/j04/ai4er/users/kmgreen/data/yolo_boats/test/images/liebre1_128.png\n",
      "/gws/nopw/j04/ai4er/users/kmgreen/data/yolo_boats/test/images/liebre1_129.png\n",
      "/gws/nopw/j04/ai4er/users/kmgreen/data/yolo_boats/test/images/liebre1_130.png\n",
      "/gws/nopw/j04/ai4er/users/kmgreen/data/yolo_boats/test/images/liebre1_143.png\n",
      "/gws/nopw/j04/ai4er/users/kmgreen/data/yolo_boats/test/images/liebre1_148.png\n",
      "/gws/nopw/j04/ai4er/users/kmgreen/data/yolo_boats/test/images/liebre1_152.png\n",
      "/gws/nopw/j04/ai4er/users/kmgreen/data/yolo_boats/test/images/liebre1_163.png\n",
      "/gws/nopw/j04/ai4er/users/kmgreen/data/yolo_boats/test/images/liebre1_174.png\n",
      "/gws/nopw/j04/ai4er/users/kmgreen/data/yolo_boats/test/images/liebre1_177.png\n",
      "/gws/nopw/j04/ai4er/users/kmgreen/data/yolo_boats/test/images/liebre1_22.png\n",
      "/gws/nopw/j04/ai4er/users/kmgreen/data/yolo_boats/test/images/liebre1_24.png\n",
      "/gws/nopw/j04/ai4er/users/kmgreen/data/yolo_boats/test/images/liebre1_34.png\n",
      "/gws/nopw/j04/ai4er/users/kmgreen/data/yolo_boats/test/images/liebre1_44.png\n",
      "/gws/nopw/j04/ai4er/users/kmgreen/data/yolo_boats/test/images/liebre1_52.png\n",
      "/gws/nopw/j04/ai4er/users/kmgreen/data/yolo_boats/test/images/liebre1_72.png\n",
      "/gws/nopw/j04/ai4er/users/kmgreen/data/yolo_boats/test/images/liebre1_74.png\n",
      "/gws/nopw/j04/ai4er/users/kmgreen/data/yolo_boats/test/images/liebre1_75.png\n",
      "/gws/nopw/j04/ai4er/users/kmgreen/data/yolo_boats/test/images/liebre1_77.png\n",
      "/gws/nopw/j04/ai4er/users/kmgreen/data/yolo_boats/test/images/liebre1_84.png\n",
      "/gws/nopw/j04/ai4er/users/kmgreen/data/yolo_boats/test/images/liebre1_86.png\n",
      "/gws/nopw/j04/ai4er/users/kmgreen/data/yolo_boats/test/images/liebre1_91.png\n",
      "/gws/nopw/j04/ai4er/users/kmgreen/data/yolo_boats/test/images/liebre1_93.png\n",
      "/gws/nopw/j04/ai4er/users/kmgreen/data/yolo_boats/test/images/liebre1_97.png\n",
      "/gws/nopw/j04/ai4er/users/kmgreen/data/yolo_boats/test/images/liebre1_99.png\n",
      "/gws/nopw/j04/ai4er/users/kmgreen/data/yolo_boats/test/images/liebre2_0.png\n",
      "/gws/nopw/j04/ai4er/users/kmgreen/data/yolo_boats/test/images/liebre2_12.png\n",
      "/gws/nopw/j04/ai4er/users/kmgreen/data/yolo_boats/test/images/liebre2_17.png\n",
      "/gws/nopw/j04/ai4er/users/kmgreen/data/yolo_boats/test/images/liebre2_20.png\n",
      "/gws/nopw/j04/ai4er/users/kmgreen/data/yolo_boats/test/images/liebre2_24.png\n",
      "/gws/nopw/j04/ai4er/users/kmgreen/data/yolo_boats/test/images/liebre2_26.png\n",
      "/gws/nopw/j04/ai4er/users/kmgreen/data/yolo_boats/test/images/liebre2_28.png\n",
      "/gws/nopw/j04/ai4er/users/kmgreen/data/yolo_boats/test/images/liebre2_36.png\n",
      "/gws/nopw/j04/ai4er/users/kmgreen/data/yolo_boats/test/images/liebre2neg_97.png\n",
      "/gws/nopw/j04/ai4er/users/kmgreen/data/yolo_boats/test/images/sanig2_0.png\n",
      "/gws/nopw/j04/ai4er/users/kmgreen/data/yolo_boats/test/images/sanig2_1.png\n",
      "/gws/nopw/j04/ai4er/users/kmgreen/data/yolo_boats/test/images/sanig2_10.png\n",
      "/gws/nopw/j04/ai4er/users/kmgreen/data/yolo_boats/test/images/sanig2_11.png\n",
      "/gws/nopw/j04/ai4er/users/kmgreen/data/yolo_boats/test/images/sanig2_12.png\n",
      "/gws/nopw/j04/ai4er/users/kmgreen/data/yolo_boats/test/images/sanig2_13.png\n",
      "/gws/nopw/j04/ai4er/users/kmgreen/data/yolo_boats/test/images/sanig2_14.png\n",
      "/gws/nopw/j04/ai4er/users/kmgreen/data/yolo_boats/test/images/sanig2_15.png\n",
      "/gws/nopw/j04/ai4er/users/kmgreen/data/yolo_boats/test/images/sanig2_16.png\n",
      "/gws/nopw/j04/ai4er/users/kmgreen/data/yolo_boats/test/images/sanig2_17.png\n",
      "/gws/nopw/j04/ai4er/users/kmgreen/data/yolo_boats/test/images/sanig2_18.png\n",
      "/gws/nopw/j04/ai4er/users/kmgreen/data/yolo_boats/test/images/sanig2_19.png\n",
      "/gws/nopw/j04/ai4er/users/kmgreen/data/yolo_boats/test/images/sanig2_2.png\n",
      "/gws/nopw/j04/ai4er/users/kmgreen/data/yolo_boats/test/images/sanig2_20.png\n",
      "/gws/nopw/j04/ai4er/users/kmgreen/data/yolo_boats/test/images/sanig2_21.png\n",
      "/gws/nopw/j04/ai4er/users/kmgreen/data/yolo_boats/test/images/sanig2_22.png\n",
      "/gws/nopw/j04/ai4er/users/kmgreen/data/yolo_boats/test/images/sanig2_23.png\n",
      "/gws/nopw/j04/ai4er/users/kmgreen/data/yolo_boats/test/images/sanig2_24.png\n",
      "/gws/nopw/j04/ai4er/users/kmgreen/data/yolo_boats/test/images/sanig2_25.png\n",
      "/gws/nopw/j04/ai4er/users/kmgreen/data/yolo_boats/test/images/sanig2_26.png\n",
      "/gws/nopw/j04/ai4er/users/kmgreen/data/yolo_boats/test/images/sanig2_27.png\n",
      "/gws/nopw/j04/ai4er/users/kmgreen/data/yolo_boats/test/images/sanig2_28.png\n",
      "/gws/nopw/j04/ai4er/users/kmgreen/data/yolo_boats/test/images/sanig2_29.png\n",
      "/gws/nopw/j04/ai4er/users/kmgreen/data/yolo_boats/test/images/sanig2_3.png\n",
      "/gws/nopw/j04/ai4er/users/kmgreen/data/yolo_boats/test/images/sanig2_4.png\n",
      "/gws/nopw/j04/ai4er/users/kmgreen/data/yolo_boats/test/images/sanig2_5.png\n",
      "/gws/nopw/j04/ai4er/users/kmgreen/data/yolo_boats/test/images/sanig2_6.png\n",
      "/gws/nopw/j04/ai4er/users/kmgreen/data/yolo_boats/test/images/sanig2_7.png\n",
      "/gws/nopw/j04/ai4er/users/kmgreen/data/yolo_boats/test/images/sanig2_8.png\n",
      "/gws/nopw/j04/ai4er/users/kmgreen/data/yolo_boats/test/images/sanig2_9.png\n",
      "/gws/nopw/j04/ai4er/users/kmgreen/data/yolo_boats/test/images/sanig2_neg_0.png\n",
      "/gws/nopw/j04/ai4er/users/kmgreen/data/yolo_boats/test/images/sanig2_neg_1.png\n",
      "/gws/nopw/j04/ai4er/users/kmgreen/data/yolo_boats/test/images/sanig2_neg_10.png\n",
      "/gws/nopw/j04/ai4er/users/kmgreen/data/yolo_boats/test/images/sanig2_neg_11.png\n",
      "/gws/nopw/j04/ai4er/users/kmgreen/data/yolo_boats/test/images/sanig2_neg_12.png\n",
      "/gws/nopw/j04/ai4er/users/kmgreen/data/yolo_boats/test/images/sanig2_neg_13.png\n",
      "/gws/nopw/j04/ai4er/users/kmgreen/data/yolo_boats/test/images/sanig2_neg_14.png\n",
      "/gws/nopw/j04/ai4er/users/kmgreen/data/yolo_boats/test/images/sanig2_neg_15.png\n",
      "/gws/nopw/j04/ai4er/users/kmgreen/data/yolo_boats/test/images/sanig2_neg_16.png\n",
      "/gws/nopw/j04/ai4er/users/kmgreen/data/yolo_boats/test/images/sanig2_neg_17.png\n",
      "/gws/nopw/j04/ai4er/users/kmgreen/data/yolo_boats/test/images/sanig2_neg_18.png\n",
      "/gws/nopw/j04/ai4er/users/kmgreen/data/yolo_boats/test/images/sanig2_neg_19.png\n",
      "/gws/nopw/j04/ai4er/users/kmgreen/data/yolo_boats/test/images/sanig2_neg_2.png\n",
      "/gws/nopw/j04/ai4er/users/kmgreen/data/yolo_boats/test/images/sanig2_neg_20.png\n",
      "/gws/nopw/j04/ai4er/users/kmgreen/data/yolo_boats/test/images/sanig2_neg_21.png\n",
      "/gws/nopw/j04/ai4er/users/kmgreen/data/yolo_boats/test/images/sanig2_neg_22.png\n",
      "/gws/nopw/j04/ai4er/users/kmgreen/data/yolo_boats/test/images/sanig2_neg_23.png\n",
      "/gws/nopw/j04/ai4er/users/kmgreen/data/yolo_boats/test/images/sanig2_neg_24.png\n",
      "/gws/nopw/j04/ai4er/users/kmgreen/data/yolo_boats/test/images/sanig2_neg_25.png\n",
      "/gws/nopw/j04/ai4er/users/kmgreen/data/yolo_boats/test/images/sanig2_neg_3.png\n",
      "/gws/nopw/j04/ai4er/users/kmgreen/data/yolo_boats/test/images/sanig2_neg_4.png\n",
      "/gws/nopw/j04/ai4er/users/kmgreen/data/yolo_boats/test/images/sanig2_neg_5.png\n",
      "/gws/nopw/j04/ai4er/users/kmgreen/data/yolo_boats/test/images/sanig2_neg_6.png\n",
      "/gws/nopw/j04/ai4er/users/kmgreen/data/yolo_boats/test/images/sanig2_neg_7.png\n",
      "/gws/nopw/j04/ai4er/users/kmgreen/data/yolo_boats/test/images/sanig2_neg_8.png\n",
      "/gws/nopw/j04/ai4er/users/kmgreen/data/yolo_boats/test/images/sanig2_neg_9.png\n",
      "/gws/nopw/j04/ai4er/users/kmgreen/data/yolo_boats/test/images/sanig_16.png\n",
      "/gws/nopw/j04/ai4er/users/kmgreen/data/yolo_boats/test/images/sanig_17.png\n",
      "/gws/nopw/j04/ai4er/users/kmgreen/data/yolo_boats/test/images/sanig_30.png\n",
      "/gws/nopw/j04/ai4er/users/kmgreen/data/yolo_boats/test/images/sanig_31.png\n",
      "/gws/nopw/j04/ai4er/users/kmgreen/data/yolo_boats/test/images/sanig_38.png\n",
      "/gws/nopw/j04/ai4er/users/kmgreen/data/yolo_boats/test/images/sanig_50.png\n",
      "/gws/nopw/j04/ai4er/users/kmgreen/data/yolo_boats/test/images/sanig_51.png\n",
      "/gws/nopw/j04/ai4er/users/kmgreen/data/yolo_boats/test/images/sanigneg_15.png\n",
      "/gws/nopw/j04/ai4er/users/kmgreen/data/yolo_boats/test/images/sanigneg_21.png\n",
      "/gws/nopw/j04/ai4er/users/kmgreen/data/yolo_boats/test/images/sanigneg_27.png\n",
      "/gws/nopw/j04/ai4er/users/kmgreen/data/yolo_boats/test/images/sanigneg_28.png\n",
      "/gws/nopw/j04/ai4er/users/kmgreen/data/yolo_boats/test/images/sanigneg_7.png\n"
     ]
    }
   ],
   "source": [
    "for file in glob.glob('/gws/nopw/j04/ai4er/users/kmgreen/data/yolo_boats/test/images/*.png'):#{}'.format(ext)):\n",
    "    print(file)\n",
    "    #shutil.copy(file,dest_dir)"
   ]
  },
  {
   "cell_type": "markdown",
   "id": "97c146a7",
   "metadata": {},
   "source": [
    "## Check instances in each folder"
   ]
  },
  {
   "cell_type": "code",
   "execution_count": 9,
   "id": "06289a86",
   "metadata": {},
   "outputs": [
    {
     "name": "stdout",
     "output_type": "stream",
     "text": [
      "32\n"
     ]
    }
   ],
   "source": [
    "number = []\n",
    "\n",
    "for file in glob.glob('/gws/nopw/j04/ai4er/users/kmgreen/data/extended_test/labels/*.txt'):\n",
    "    with open(file,'r') as f:\n",
    "        label = f.read()\n",
    "        items = label.splitlines()\n",
    "        #print(items)\n",
    "        for i in items:\n",
    "            #index = i[0]\n",
    "            #print(i)\n",
    "            if items[0][0] == '1':\n",
    "                number.append(1)\n",
    "                \n",
    "                \n",
    "print(len(number))"
   ]
  },
  {
   "cell_type": "code",
   "execution_count": 7,
   "id": "14450bde",
   "metadata": {},
   "outputs": [
    {
     "name": "stdout",
     "output_type": "stream",
     "text": [
      "106\n"
     ]
    }
   ],
   "source": [
    "number_images=[]\n",
    "\n",
    "for file in glob.glob('/gws/nopw/j04/ai4er/users/kmgreen/data/extended_test/labels/*.txt'):\n",
    "    number_images.append(1)\n",
    "    \n",
    "print(len(number_images))\n",
    "        \n",
    "\n"
   ]
  },
  {
   "cell_type": "markdown",
   "id": "2be01a2b",
   "metadata": {},
   "source": [
    "## Git sort"
   ]
  },
  {
   "cell_type": "code",
   "execution_count": 7,
   "id": "acb4d029",
   "metadata": {},
   "outputs": [],
   "source": [
    "dest_dir = '/home/users/kmgreen/Code/mres_whales/src/models/weights'\n",
    "#'/home/users/kmgreen/Code/mres_whales/src/models/weights'"
   ]
  },
  {
   "cell_type": "code",
   "execution_count": 14,
   "id": "13227950",
   "metadata": {},
   "outputs": [
    {
     "name": "stdout",
     "output_type": "stream",
     "text": [
      "/home/users/kmgreen/Code/yolov5/runs/train/yolov5s_results(extended_train_test)/weights/best.pt\n"
     ]
    }
   ],
   "source": [
    "for file in glob.glob('/home/users/kmgreen/Code/yolov5/runs/train/yolov5s_results(extended_train_test)/weights/best.pt'):#{}'.format(ext)):\n",
    "    print(file)\n",
    "    shutil.copy(file,dest_dir)\n",
    "#'/home/users/kmgreen/Code/yolov5/runs/train/yolov5s_results(boats1)/weights/best.pt'"
   ]
  },
  {
   "cell_type": "code",
   "execution_count": null,
   "id": "d50f133e",
   "metadata": {},
   "outputs": [],
   "source": []
  }
 ],
 "metadata": {
  "kernelspec": {
   "display_name": "Python 3",
   "language": "python",
   "name": "python3"
  },
  "language_info": {
   "codemirror_mode": {
    "name": "ipython",
    "version": 3
   },
   "file_extension": ".py",
   "mimetype": "text/x-python",
   "name": "python",
   "nbconvert_exporter": "python",
   "pygments_lexer": "ipython3",
   "version": "3.8.8"
  }
 },
 "nbformat": 4,
 "nbformat_minor": 5
}
