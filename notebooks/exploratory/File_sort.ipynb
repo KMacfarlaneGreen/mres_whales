{
 "cells": [
  {
   "cell_type": "code",
   "execution_count": 20,
   "id": "e1a2ca74",
   "metadata": {},
   "outputs": [],
   "source": [
    "import shutil\n",
    "import glob"
   ]
  },
  {
   "cell_type": "code",
   "execution_count": 39,
   "id": "2fa44799",
   "metadata": {},
   "outputs": [],
   "source": [
    "dest_dir = '/gws/nopw/j04/ai4er/users/kmgreen/data/yolo_boats/test/images'"
   ]
  },
  {
   "cell_type": "code",
   "execution_count": 41,
   "id": "d5d1faed",
   "metadata": {},
   "outputs": [
    {
     "name": "stdout",
     "output_type": "stream",
     "text": [
      "/gws/nopw/j04/ai4er/users/kmgreen/data/yolo_boats/test/class1/liebre1_101.png\n",
      "/gws/nopw/j04/ai4er/users/kmgreen/data/yolo_boats/test/class1/liebre1_106.png\n",
      "/gws/nopw/j04/ai4er/users/kmgreen/data/yolo_boats/test/class1/liebre1_118.png\n",
      "/gws/nopw/j04/ai4er/users/kmgreen/data/yolo_boats/test/class1/liebre1_121.png\n",
      "/gws/nopw/j04/ai4er/users/kmgreen/data/yolo_boats/test/class1/liebre1_122.png\n",
      "/gws/nopw/j04/ai4er/users/kmgreen/data/yolo_boats/test/class1/liebre1_128.png\n",
      "/gws/nopw/j04/ai4er/users/kmgreen/data/yolo_boats/test/class1/liebre1_129.png\n",
      "/gws/nopw/j04/ai4er/users/kmgreen/data/yolo_boats/test/class1/liebre1_130.png\n",
      "/gws/nopw/j04/ai4er/users/kmgreen/data/yolo_boats/test/class1/liebre1_143.png\n",
      "/gws/nopw/j04/ai4er/users/kmgreen/data/yolo_boats/test/class1/liebre1_148.png\n",
      "/gws/nopw/j04/ai4er/users/kmgreen/data/yolo_boats/test/class1/liebre1_152.png\n",
      "/gws/nopw/j04/ai4er/users/kmgreen/data/yolo_boats/test/class1/liebre1_163.png\n",
      "/gws/nopw/j04/ai4er/users/kmgreen/data/yolo_boats/test/class1/liebre1_174.png\n",
      "/gws/nopw/j04/ai4er/users/kmgreen/data/yolo_boats/test/class1/liebre1_177.png\n",
      "/gws/nopw/j04/ai4er/users/kmgreen/data/yolo_boats/test/class1/liebre1_22.png\n",
      "/gws/nopw/j04/ai4er/users/kmgreen/data/yolo_boats/test/class1/liebre1_24.png\n",
      "/gws/nopw/j04/ai4er/users/kmgreen/data/yolo_boats/test/class1/liebre1_34.png\n",
      "/gws/nopw/j04/ai4er/users/kmgreen/data/yolo_boats/test/class1/liebre1_44.png\n",
      "/gws/nopw/j04/ai4er/users/kmgreen/data/yolo_boats/test/class1/liebre1_52.png\n",
      "/gws/nopw/j04/ai4er/users/kmgreen/data/yolo_boats/test/class1/liebre1_72.png\n",
      "/gws/nopw/j04/ai4er/users/kmgreen/data/yolo_boats/test/class1/liebre1_74.png\n",
      "/gws/nopw/j04/ai4er/users/kmgreen/data/yolo_boats/test/class1/liebre1_75.png\n",
      "/gws/nopw/j04/ai4er/users/kmgreen/data/yolo_boats/test/class1/liebre1_77.png\n",
      "/gws/nopw/j04/ai4er/users/kmgreen/data/yolo_boats/test/class1/liebre1_84.png\n",
      "/gws/nopw/j04/ai4er/users/kmgreen/data/yolo_boats/test/class1/liebre1_86.png\n",
      "/gws/nopw/j04/ai4er/users/kmgreen/data/yolo_boats/test/class1/liebre1_91.png\n",
      "/gws/nopw/j04/ai4er/users/kmgreen/data/yolo_boats/test/class1/liebre1_93.png\n",
      "/gws/nopw/j04/ai4er/users/kmgreen/data/yolo_boats/test/class1/liebre1_97.png\n",
      "/gws/nopw/j04/ai4er/users/kmgreen/data/yolo_boats/test/class1/liebre1_99.png\n",
      "/gws/nopw/j04/ai4er/users/kmgreen/data/yolo_boats/test/class1/liebre2_0.png\n",
      "/gws/nopw/j04/ai4er/users/kmgreen/data/yolo_boats/test/class1/liebre2_12.png\n",
      "/gws/nopw/j04/ai4er/users/kmgreen/data/yolo_boats/test/class1/liebre2_17.png\n",
      "/gws/nopw/j04/ai4er/users/kmgreen/data/yolo_boats/test/class1/liebre2_20.png\n",
      "/gws/nopw/j04/ai4er/users/kmgreen/data/yolo_boats/test/class1/liebre2_24.png\n",
      "/gws/nopw/j04/ai4er/users/kmgreen/data/yolo_boats/test/class1/liebre2_26.png\n",
      "/gws/nopw/j04/ai4er/users/kmgreen/data/yolo_boats/test/class1/liebre2_28.png\n",
      "/gws/nopw/j04/ai4er/users/kmgreen/data/yolo_boats/test/class1/liebre2_36.png\n",
      "/gws/nopw/j04/ai4er/users/kmgreen/data/yolo_boats/test/class1/sanig_16.png\n",
      "/gws/nopw/j04/ai4er/users/kmgreen/data/yolo_boats/test/class1/sanig_17.png\n",
      "/gws/nopw/j04/ai4er/users/kmgreen/data/yolo_boats/test/class1/sanig_30.png\n",
      "/gws/nopw/j04/ai4er/users/kmgreen/data/yolo_boats/test/class1/sanig_31.png\n",
      "/gws/nopw/j04/ai4er/users/kmgreen/data/yolo_boats/test/class1/sanig_38.png\n",
      "/gws/nopw/j04/ai4er/users/kmgreen/data/yolo_boats/test/class1/sanig_50.png\n",
      "/gws/nopw/j04/ai4er/users/kmgreen/data/yolo_boats/test/class1/sanig_51.png\n"
     ]
    }
   ],
   "source": [
    "for file in glob.glob('/gws/nopw/j04/ai4er/users/kmgreen/data/yolo_boats/test/class1/*.png'):#{}'.format(ext)):\n",
    "    print(file)\n",
    "    shutil.move(file,dest_dir)"
   ]
  },
  {
   "cell_type": "code",
   "execution_count": null,
   "id": "7857c0ab",
   "metadata": {},
   "outputs": [],
   "source": []
  }
 ],
 "metadata": {
  "kernelspec": {
   "display_name": "Python 3",
   "language": "python",
   "name": "python3"
  },
  "language_info": {
   "codemirror_mode": {
    "name": "ipython",
    "version": 3
   },
   "file_extension": ".py",
   "mimetype": "text/x-python",
   "name": "python",
   "nbconvert_exporter": "python",
   "pygments_lexer": "ipython3",
   "version": "3.8.8"
  }
 },
 "nbformat": 4,
 "nbformat_minor": 5
}
